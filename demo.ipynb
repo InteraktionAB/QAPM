{
 "cells": [
  {
   "cell_type": "markdown",
   "metadata": {},
   "source": [
    "[![Open In Colab](https://colab.research.google.com/assets/colab-badge.svg)](https://colab.research.google.com/github/InteraktionAB/QAPM/blob/main/demo.ipynb)\n"
   ]
  },
  {
   "cell_type": "code",
   "execution_count": null,
   "metadata": {},
   "outputs": [],
   "source": [
    "!git clone https://www.github.com/InteraktionAB/QAPM.git"
   ]
  },
  {
   "cell_type": "code",
   "execution_count": null,
   "metadata": {},
   "outputs": [],
   "source": [
    "cd QAPM"
   ]
  },
  {
   "cell_type": "code",
   "execution_count": null,
   "metadata": {},
   "outputs": [],
   "source": [
    "!pip install -q -r requirements.txt"
   ]
  },
  {
   "cell_type": "code",
   "execution_count": null,
   "metadata": {},
   "outputs": [],
   "source": [
    "!pip install -q gradio"
   ]
  },
  {
   "cell_type": "code",
   "execution_count": null,
   "metadata": {},
   "outputs": [],
   "source": [
    "import gradio\n",
    "import qapm\n",
    "\n",
    "LIVE = False\n",
    "\n",
    "MIN_RET_SEQ = 1\n",
    "MAX_RET_SEQ = 50\n",
    "DEFAULT_RET_SEQ = 10\n",
    "LABEL_RET_SEQ = \"Number of return sequences\"\n",
    "STEP_RET_SEQ = 1\n",
    "\n",
    "MIN_BEAMS = 1\n",
    "MAX_BEAMS = 50\n",
    "DEFAULT_BEAMS = 10\n",
    "LABEL_BEAMS = \"Number of beams\"\n",
    "STEP_BEAMS = 1\n",
    "\n",
    "MIN_LENGTH = 1\n",
    "MAX_LENGTH = 200\n",
    "DEFAULT_LENGTH = 60\n",
    "LABEL_LENGTH = \"Max length\"\n",
    "STEP_LENGTH = 1\n",
    "\n",
    "MIN_TEMP = 1\n",
    "MAX_TEMP = 5\n",
    "DEFAULT_TEMP = 1.5\n",
    "LABEL_TEMP = \"Temperature\"\n",
    "STEP_TEMP = 0.1\n",
    "\n",
    "pegasus = qapm.HFPegasus()\n",
    "\n",
    "input_text = gradio.Textbox(\"Input\")\n",
    "num_return_sequences = gradio.Slider(minumum=MIN_RET_SEQ, maximum=MAX_RET_SEQ, step=STEP_RET_SEQ, value=DEFAULT_RET_SEQ, label=LABEL_RET_SEQ)\n",
    "num_beams = gradio.Slider(minimum=MIN_BEAMS, maximum=MAX_BEAMS, step=STEP_BEAMS, value=DEFAULT_BEAMS, label=LABEL_BEAMS)\n",
    "max_length = gradio.Slider(minimum=MIN_LENGTH, maximum=MAX_LENGTH, step=STEP_LENGTH, value=DEFAULT_LENGTH, label=LABEL_LENGTH)\n",
    "temperature = gradio.Slider(minimum=MIN_TEMP, maximum=MAX_TEMP, step=STEP_TEMP, value=DEFAULT_TEMP, label=LABEL_TEMP)\n",
    "output = \"textarea\"\n",
    "\n",
    "app = gradio.interface(pegasus.infer, inputs=[input_text, num_return_sequences, num_beams, max_length, temperature], outputs=output, live=LIVE)\n",
    "app.launch()"
   ]
  }
 ],
 "metadata": {
  "language_info": {
   "name": "python"
  },
  "orig_nbformat": 4
 },
 "nbformat": 4,
 "nbformat_minor": 2
}
